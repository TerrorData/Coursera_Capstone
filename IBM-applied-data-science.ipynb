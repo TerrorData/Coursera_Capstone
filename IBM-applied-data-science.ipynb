# IBM Applied Data Science Capstone Python Notebook
#
# This file will contain all the work for the learning assignments and what is to be turned in as the final peer graded work
#
# Tom Miller
Import the pandas library as pd.
Import the Numpy library as np.
print(="Hello Capstone Project Course!")
